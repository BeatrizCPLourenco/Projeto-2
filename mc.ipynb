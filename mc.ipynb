{
 "cells": [
  {
   "cell_type": "markdown",
   "metadata": {},
   "source": [
    "# Projeto 2 - Ciência dos Dados"
   ]
  },
  {
   "cell_type": "markdown",
   "metadata": {},
   "source": [
    "Nome: Beatriz Lourenço\n",
    "\n",
    "Nome: Gabriel Yamashita"
   ]
  },
  {
   "cell_type": "markdown",
   "metadata": {},
   "source": [
    "Serão permitidos grupos de três pessoas, mas com uma rubrica mais exigente. Grupos deste tamanho precisarão fazer um questionário de avaliação de trabalho em equipe"
   ]
  },
  {
   "cell_type": "markdown",
   "metadata": {},
   "source": [
    "___\n",
    "# Classificador automático de sentimento\n"
   ]
  },
  {
   "cell_type": "markdown",
   "metadata": {},
   "source": [
    "## Preparando o ambiente no jupyter:"
   ]
  },
  {
   "cell_type": "code",
   "execution_count": 91,
   "metadata": {},
   "outputs": [],
   "source": [
    "%%capture\n",
    "\n",
    "#Instalando o tweepy\n",
    "!pip install tweepy"
   ]
  },
  {
   "cell_type": "code",
   "execution_count": 92,
   "metadata": {
    "jupyter": {
     "outputs_hidden": true
    }
   },
   "outputs": [],
   "source": [
    "import tweepy\n",
    "import math\n",
    "import os.path\n",
    "import pandas as pd\n",
    "import json\n",
    "import re \n",
    "from random import shuffle"
   ]
  },
  {
   "cell_type": "markdown",
   "metadata": {},
   "source": [
    "___\n",
    "## Autenticando no  Twitter\n",
    "\n",
    "* Conta: ***@Reme72277305***"
   ]
  },
  {
   "cell_type": "code",
   "execution_count": 93,
   "metadata": {
    "jupyter": {
     "outputs_hidden": true
    }
   },
   "outputs": [],
   "source": [
    "#Dados de autenticação do twitter:\n",
    "\n",
    "#Coloque aqui o identificador da conta no twitter: @fulano\n",
    "\n",
    "#leitura do arquivo no formato JSON\n",
    "with open('auth.pass') as fp:    \n",
    "    data = json.load(fp)\n",
    "\n",
    "#Configurando a biblioteca. Não modificar\n",
    "auth = tweepy.OAuthHandler(data['consumer_key'], data['consumer_secret'])\n",
    "auth.set_access_token(data['access_token'], data['access_token_secret'])"
   ]
  },
  {
   "cell_type": "markdown",
   "metadata": {},
   "source": [
    "___\n",
    "## Etapas do projeto:"
   ]
  },
  {
   "cell_type": "markdown",
   "metadata": {},
   "source": [
    "### Escolha de um produto e coleta das mensagens\n"
   ]
  },
  {
   "cell_type": "code",
   "execution_count": 94,
   "metadata": {
    "jupyter": {
     "outputs_hidden": true
    }
   },
   "outputs": [],
   "source": [
    "#Produto escolhido:\n",
    "produto = \"McDonalds\"\n",
    "\n",
    "#Quantidade mínima de mensagens capturadas:\n",
    "n = 500\n",
    "#Quantidade mínima de mensagens para a base de treinamento:\n",
    "t = 300\n",
    "\n",
    "#Filtro de língua, escolha uma na tabela ISO 639-1.\n",
    "lang = 'pt'"
   ]
  },
  {
   "cell_type": "markdown",
   "metadata": {},
   "source": [
    "Capturando os dados do twitter:"
   ]
  },
  {
   "cell_type": "code",
   "execution_count": 95,
   "metadata": {
    "jupyter": {
     "outputs_hidden": true
    }
   },
   "outputs": [],
   "source": [
    "#Cria um objeto para a captura\n",
    "api = tweepy.API(auth)\n",
    "\n",
    "#Inicia a captura, para mais detalhes: ver a documentação do tweepy\n",
    "i = 1\n",
    "msgs = []\n",
    "for msg in tweepy.Cursor(api.search, q=produto, lang=lang, tweet_mode=\"extended\").items():    \n",
    "    msgs.append(msg.full_text.lower())\n",
    "    i += 1\n",
    "    if i > n:\n",
    "        break\n",
    "# shuffle(msgs)"
   ]
  },
  {
   "cell_type": "markdown",
   "metadata": {},
   "source": [
    "Salvando os dados em uma planilha Excel:"
   ]
  },
  {
   "cell_type": "code",
   "execution_count": 96,
   "metadata": {
    "jupyter": {
     "outputs_hidden": true
    }
   },
   "outputs": [],
   "source": [
    "#Verifica se o arquivo não existe para não substituir um conjunto pronto\n",
    "if not os.path.isfile('./{0}.xlsx'.format(produto)):\n",
    "    \n",
    "    #Abre o arquivo para escrita\n",
    "    writer = pd.ExcelWriter('{0}.xlsx'.format(produto))\n",
    "\n",
    "    #divide o conjunto de mensagens em duas planilhas\n",
    "    dft = pd.DataFrame({'Treinamento' : pd.Series(msgs[:t])})\n",
    "    dft.to_excel(excel_writer = writer, sheet_name = 'Treinamento', index = False)\n",
    "\n",
    "    dfc = pd.DataFrame({'Teste' : pd.Series(msgs[t:])})\n",
    "    dfc.to_excel(excel_writer = writer, sheet_name = 'Teste', index = False)\n",
    "\n",
    "    #fecha o arquivo\n",
    "    writer.save()"
   ]
  },
  {
   "cell_type": "markdown",
   "metadata": {},
   "source": [
    "___\n",
    "### Classificando as mensagens na coragem\n",
    "\n",
    "Esta etapa é manual. Faça a mesma pelo Excel."
   ]
  },
  {
   "cell_type": "markdown",
   "metadata": {},
   "source": [
    "___\n",
    "### Montando o Classificador Naive-Bayes\n",
    "\n",
    "Considerando apenas as mensagens da planilha Treinamento, ensine  seu classificador."
   ]
  },
  {
   "cell_type": "code",
   "execution_count": 97,
   "metadata": {
    "scrolled": true
   },
   "outputs": [],
   "source": [
    "data = pd.read_excel(\"McDonalds.xlsx\",sheet_name = \"Treinamento\")\n",
    "colunas = [\"Treinamento\", \"relevancia\"]\n",
    "data = data.loc[:,colunas]\n",
    "\n",
    "def cleanup(text):\n",
    "    punctuation = \"[!\\-.:?;,'#-@]\"\n",
    "    pattern = re.compile(punctuation)\n",
    "    text_subbed = re.sub(pattern, ' ', text)\n",
    "    return text_subbed    "
   ]
  },
  {
   "cell_type": "code",
   "execution_count": 98,
   "metadata": {
    "scrolled": true
   },
   "outputs": [],
   "source": [
    "rel = \" \".join(data[data[\"relevancia\"] == 1].Treinamento)\n",
    "irrel = \" \".join(data[data[\"relevancia\"] == 0].Treinamento)\n",
    "\n",
    "rel = cleanup(rel)\n",
    "irrel = cleanup(irrel)\n",
    "\n",
    "rel = pd.Series(rel.split())\n",
    "irrel = pd.Series(irrel.split())"
   ]
  },
  {
   "cell_type": "code",
   "execution_count": 99,
   "metadata": {
    "collapsed": true
   },
   "outputs": [
    {
     "data": {
      "text/plain": [
       "mcdonalds_br      0.040491\n",
       "e                 0.034356\n",
       "de                0.033129\n",
       "o                 0.026994\n",
       "no                0.023313\n",
       "que               0.023313\n",
       "mcdonalds         0.019632\n",
       "do                0.018405\n",
       "ifood             0.017178\n",
       "eu                0.014724\n",
       "a                 0.014724\n",
       "não               0.013497\n",
       "um                0.012270\n",
       "nunca             0.012270\n",
       "é                 0.012270\n",
       "uma               0.008589\n",
       "tem               0.008589\n",
       "da                0.007362\n",
       "https             0.007362\n",
       "t                 0.007362\n",
       "co                0.007362\n",
       "pelo              0.006135\n",
       "comer             0.006135\n",
       "só                0.006135\n",
       "pedido            0.006135\n",
       "rt                0.004908\n",
       "pedi              0.004908\n",
       "mista             0.004908\n",
       "se                0.004908\n",
       "mais              0.004908\n",
       "                    ...   \n",
       "vir               0.001227\n",
       "abraço            0.001227\n",
       "hj                0.001227\n",
       "tirado            0.001227\n",
       "👍🏻                0.001227\n",
       "mecôzo            0.001227\n",
       "lojas             0.001227\n",
       "faz               0.001227\n",
       "demorou           0.001227\n",
       "gastei            0.001227\n",
       "hidrogenado       0.001227\n",
       "cupom             0.001227\n",
       "queria            0.001227\n",
       "outro             0.001227\n",
       "beckmannrenata    0.001227\n",
       "caralha           0.001227\n",
       "totem             0.001227\n",
       "manauara          0.001227\n",
       "rua               0.001227\n",
       "lanche            0.001227\n",
       "quer              0.001227\n",
       "eles              0.001227\n",
       "atilevil          0.001227\n",
       "lancheria         0.001227\n",
       "vamo              0.001227\n",
       "paah              0.001227\n",
       "péssimo           0.001227\n",
       "sanduíche         0.001227\n",
       "acho              0.001227\n",
       "trabalham         0.001227\n",
       "Length: 400, dtype: float64"
      ]
     },
     "execution_count": 99,
     "metadata": {},
     "output_type": "execute_result"
    }
   ],
   "source": [
    "rel_value = rel.value_counts(True)\n",
    "rel_value"
   ]
  },
  {
   "cell_type": "code",
   "execution_count": 100,
   "metadata": {
    "collapsed": true
   },
   "outputs": [
    {
     "data": {
      "text/plain": [
       "mcdonalds         0.035303\n",
       "de                0.028193\n",
       "mcdonalds_br      0.025251\n",
       "que               0.020103\n",
       "e                 0.017897\n",
       "o                 0.017651\n",
       "do                0.017406\n",
       "a                 0.015445\n",
       "eu                0.014955\n",
       "t                 0.013974\n",
       "é                 0.013974\n",
       "co                0.013729\n",
       "não               0.013729\n",
       "https             0.013729\n",
       "rt                0.013729\n",
       "no                0.013239\n",
       "um                0.012748\n",
       "com               0.010051\n",
       "em                0.008581\n",
       "uma               0.007110\n",
       "pra               0.006864\n",
       "da                0.006864\n",
       "por               0.006374\n",
       "na                0.005884\n",
       "q                 0.005393\n",
       "minha             0.004903\n",
       "se                0.004413\n",
       "você              0.004413\n",
       "comer             0.004168\n",
       "me                0.004168\n",
       "                    ...   \n",
       "facissu           0.000245\n",
       "arrependida       0.000245\n",
       "mascote           0.000245\n",
       "trabalha          0.000245\n",
       "bruniin           0.000245\n",
       "invenção          0.000245\n",
       "desnecessários    0.000245\n",
       "ss                0.000245\n",
       "fodase            0.000245\n",
       "now               0.000245\n",
       "❤️                0.000245\n",
       "larson            0.000245\n",
       "wi                0.000245\n",
       "falar             0.000245\n",
       "sousa_            0.000245\n",
       "lei               0.000245\n",
       "dangerous         0.000245\n",
       "mães              0.000245\n",
       "pedromugarte      0.000245\n",
       "várias            0.000245\n",
       "servir            0.000245\n",
       "parabéns          0.000245\n",
       "boneco            0.000245\n",
       "partir            0.000245\n",
       "bqquqg            0.000245\n",
       "umali             0.000245\n",
       "jgsjonathan       0.000245\n",
       "pqp               0.000245\n",
       "harmonia          0.000245\n",
       "arielsis          0.000245\n",
       "Length: 1334, dtype: float64"
      ]
     },
     "execution_count": 100,
     "metadata": {},
     "output_type": "execute_result"
    }
   ],
   "source": [
    "irrel_value = irrel.value_counts(True)\n",
    "irrel_value"
   ]
  },
  {
   "cell_type": "markdown",
   "metadata": {},
   "source": [
    "___"
   ]
  },
  {
   "cell_type": "code",
   "execution_count": 103,
   "metadata": {
    "collapsed": true
   },
   "outputs": [
    {
     "data": {
      "text/plain": [
       "mcdonalds_brdo           0.004908\n",
       "nãomcdonalds             0.003681\n",
       "domcdonalds_br           0.002454\n",
       "mcdonalds_brir           0.002454\n",
       "queque                   0.002454\n",
       "mcdonalds_brnão          0.002454\n",
       "ode                      0.002454\n",
       "temde                    0.002454\n",
       "nuncamcdonalds           0.002454\n",
       "mcdonalds_bre            0.002454\n",
       "mcdonaldsrt              0.002454\n",
       "euhttps                  0.002454\n",
       "depor                    0.002454\n",
       "mcdonalds_brmcdonalds    0.002454\n",
       "foodpizza                0.001227\n",
       "ufpra                    0.001227\n",
       "ahambúrgueres            0.001227\n",
       "cupommcdonalds_br        0.001227\n",
       "bomchamando              0.001227\n",
       "fazermcdo                0.001227\n",
       "ofazendo                 0.001227\n",
       "pedirem                  0.001227\n",
       "dono                     0.001227\n",
       "eudos                    0.001227\n",
       "okkkkkkkk                0.001227\n",
       "aumentoutá               0.001227\n",
       "nopor                    0.001227\n",
       "doalgo                   0.001227\n",
       "fazernotinha             0.001227\n",
       "cort                     0.001227\n",
       "                           ...   \n",
       "dediferencial            0.001227\n",
       "fizemosentender          0.001227\n",
       "tôque                    0.001227\n",
       "umaalgo                  0.001227\n",
       "noobsessão               0.001227\n",
       "valeuminha               0.001227\n",
       "rtcomi                   0.001227\n",
       "qbaile                   0.001227\n",
       "evitopronuncia           0.001227\n",
       "pelofaziam               0.001227\n",
       "ifoodcoisa               0.001227\n",
       "genteé                   0.001227\n",
       "febrecalor               0.001227\n",
       "pensarde                 0.001227\n",
       "tastyfui                 0.001227\n",
       "mcflorestabhclássico…    0.001227\n",
       "aali                     0.001227\n",
       "vidao                    0.001227\n",
       "ruimhttps                0.001227\n",
       "acabeimcdonalds          0.001227\n",
       "queriameta               0.001227\n",
       "dinheirochase            0.001227\n",
       "meuvocê                  0.001227\n",
       "lavão                    0.001227\n",
       "a▪hey                    0.001227\n",
       "querleite                0.001227\n",
       "omcdonalds               0.001227\n",
       "mcdonaldsuma             0.001227\n",
       "deele                    0.001227\n",
       "esseque                  0.001227\n",
       "Length: 798, dtype: float64"
      ]
     },
     "execution_count": 103,
     "metadata": {},
     "output_type": "execute_result"
    }
   ],
   "source": [
    "total = rel + irrel\n",
    "total = total.value_counts(True)\n",
    "total"
   ]
  },
  {
   "cell_type": "code",
   "execution_count": 104,
   "metadata": {
    "collapsed": true
   },
   "outputs": [
    {
     "data": {
      "text/plain": [
       "{'a',\n",
       " 'acabei',\n",
       " 'achei',\n",
       " 'acho',\n",
       " 'agora',\n",
       " 'agr',\n",
       " 'ai',\n",
       " 'algo',\n",
       " 'anos',\n",
       " 'ao',\n",
       " 'apenas',\n",
       " 'app',\n",
       " 'aqui',\n",
       " 'as',\n",
       " 'assim',\n",
       " 'até',\n",
       " 'aí',\n",
       " 'bacon',\n",
       " 'batatas',\n",
       " 'big',\n",
       " 'bk',\n",
       " 'bom',\n",
       " 'burgerkingbr',\n",
       " 'cabeça',\n",
       " 'caixa',\n",
       " 'cara',\n",
       " 'casquinha',\n",
       " 'chocolate',\n",
       " 'co',\n",
       " 'com',\n",
       " 'combo',\n",
       " 'comendo',\n",
       " 'comer',\n",
       " 'comida',\n",
       " 'como',\n",
       " 'compra',\n",
       " 'cupom',\n",
       " 'da',\n",
       " 'dar',\n",
       " 'das',\n",
       " 'de',\n",
       " 'demais',\n",
       " 'devo',\n",
       " 'dia',\n",
       " 'dinheiro',\n",
       " 'diz',\n",
       " 'do',\n",
       " 'domingo',\n",
       " 'dá',\n",
       " 'e',\n",
       " 'ele',\n",
       " 'eles',\n",
       " 'em',\n",
       " 'errado',\n",
       " 'erro',\n",
       " 'especial',\n",
       " 'esse',\n",
       " 'estão',\n",
       " 'eu',\n",
       " 'experiência',\n",
       " 'falando',\n",
       " 'falta',\n",
       " 'fanchapwr',\n",
       " 'fast',\n",
       " 'fazer',\n",
       " 'feliz',\n",
       " 'fica',\n",
       " 'fomos',\n",
       " 'food',\n",
       " 'frio',\n",
       " 'fui',\n",
       " 'gente',\n",
       " 'h',\n",
       " 'hj',\n",
       " 'hoje',\n",
       " 'https',\n",
       " 'i',\n",
       " 'ifood',\n",
       " 'já',\n",
       " 'kkkk',\n",
       " 'la',\n",
       " 'lanche',\n",
       " 'loja',\n",
       " 'lugar',\n",
       " 'lá',\n",
       " 'mais',\n",
       " 'manauara',\n",
       " 'mandar',\n",
       " 'mas',\n",
       " 'mc',\n",
       " 'mcdonald',\n",
       " 'mcdonalds',\n",
       " 'mcdonalds_br',\n",
       " 'me',\n",
       " 'meia',\n",
       " 'melhor',\n",
       " 'mensagem',\n",
       " 'meu',\n",
       " 'milk',\n",
       " 'milkshake',\n",
       " 'minha',\n",
       " 'mt',\n",
       " 'muito',\n",
       " 'na',\n",
       " 'nada',\n",
       " 'nas',\n",
       " 'ninguém',\n",
       " 'no',\n",
       " 'novo',\n",
       " 'nunca',\n",
       " 'não',\n",
       " 'o',\n",
       " 'oi',\n",
       " 'onde',\n",
       " 'os',\n",
       " 'p',\n",
       " 'pedi',\n",
       " 'pedido',\n",
       " 'pedir',\n",
       " 'pelo',\n",
       " 'pessoas',\n",
       " 'pfv',\n",
       " 'pisou',\n",
       " 'por',\n",
       " 'porque',\n",
       " 'pq',\n",
       " 'pra',\n",
       " 'prefiro',\n",
       " 'pro',\n",
       " 'propaganda',\n",
       " 'puta',\n",
       " 'q',\n",
       " 'quando',\n",
       " 'quasequeeucaio_',\n",
       " 'que',\n",
       " 'quem',\n",
       " 'quer',\n",
       " 'queria',\n",
       " 'refri',\n",
       " 'rio',\n",
       " 'rj',\n",
       " 'rt',\n",
       " 'rua',\n",
       " 'ruim',\n",
       " 's',\n",
       " 'sanduíche',\n",
       " 'se',\n",
       " 'sem',\n",
       " 'ser',\n",
       " 'shake',\n",
       " 'shopping',\n",
       " 'sinto',\n",
       " 'so',\n",
       " 'sorvete',\n",
       " 'super',\n",
       " 'só',\n",
       " 't',\n",
       " 'tarde',\n",
       " 'tava',\n",
       " 'te',\n",
       " 'tem',\n",
       " 'tenho',\n",
       " 'ter',\n",
       " 'tinha',\n",
       " 'tipo',\n",
       " 'tive',\n",
       " 'todo',\n",
       " 'tomar',\n",
       " 'traz',\n",
       " 'triste',\n",
       " 'tristeza',\n",
       " 'tudo',\n",
       " 'tá',\n",
       " 'tô',\n",
       " 'um',\n",
       " 'uma',\n",
       " 'vai',\n",
       " 'vamo',\n",
       " 'vc',\n",
       " 'vem',\n",
       " 'verdade',\n",
       " 'vez',\n",
       " 'vi',\n",
       " 'vida',\n",
       " 'você',\n",
       " 'vocês',\n",
       " 'zacefronswife_',\n",
       " 'é',\n",
       " 'única'}"
      ]
     },
     "execution_count": 104,
     "metadata": {},
     "output_type": "execute_result"
    }
   ],
   "source": [
    "inter_rel = set(rel_value.index)\n",
    "inter_irrel = set(irrel_value.index)\n",
    "inter = inter_rel.intersection(inter_irrel)\n",
    "inter"
   ]
  },
  {
   "cell_type": "markdown",
   "metadata": {},
   "source": [
    "___"
   ]
  },
  {
   "cell_type": "code",
   "execution_count": 118,
   "metadata": {
    "scrolled": true
   },
   "outputs": [
    {
     "data": {
      "text/plain": [
       "e               0.000027\n",
       "o               0.000021\n",
       "mcdonalds_br    0.000019\n",
       "de              0.000013\n",
       "mcdonalds       0.000012\n",
       "mais            0.000012\n",
       "que             0.000012\n",
       "um              0.000011\n",
       "não             0.000010\n",
       "tá              0.000010\n",
       "a               0.000010\n",
       "no              0.000009\n",
       "pra             0.000009\n",
       "https           0.000008\n",
       "t               0.000008\n",
       "com             0.000008\n",
       "do              0.000008\n",
       "co              0.000008\n",
       "ifood           0.000007\n",
       "é               0.000007\n",
       "da              0.000007\n",
       "vez             0.000006\n",
       "uma             0.000006\n",
       "em              0.000006\n",
       "na              0.000006\n",
       "pelo            0.000005\n",
       "compro          0.000005\n",
       "molho           0.000005\n",
       "pedido          0.000005\n",
       "eles            0.000005\n",
       "                  ...   \n",
       "👍👍              0.000002\n",
       "gasto           0.000002\n",
       "isso            0.000002\n",
       "unidade         0.000002\n",
       "porcaria        0.000002\n",
       "vacilo          0.000002\n",
       "aumentando      0.000002\n",
       "caloteiro       0.000002\n",
       "pedindo         0.000002\n",
       "put             0.000002\n",
       "fome            0.000002\n",
       "app             0.000002\n",
       "sorvete         0.000002\n",
       "hooneybey       0.000002\n",
       "valor           0.000002\n",
       "terça           0.000002\n",
       "loja            0.000002\n",
       "checar          0.000002\n",
       "lixo            0.000002\n",
       "poder           0.000002\n",
       "tiraram         0.000002\n",
       "dá              0.000002\n",
       "casquinha       0.000002\n",
       "prazo           0.000002\n",
       "momento         0.000002\n",
       "ficou           0.000002\n",
       "baita           0.000002\n",
       "fui             0.000002\n",
       "pior            0.000002\n",
       "clientes        0.000002\n",
       "Length: 311, dtype: float64"
      ]
     },
     "execution_count": 118,
     "metadata": {},
     "output_type": "execute_result"
    }
   ],
   "source": [
    "alpha = 1\n",
    "V = 1e6\n",
    "\n",
    "rel_value_number = rel.value_counts()\n",
    "sum_rel_value_number = rel_value_number.sum()\n",
    "\n",
    "irrel_value_number = irrel.value_counts()\n",
    "sum_irrel_value_number = irrel_value_number.sum()\n",
    "\n",
    "prob_p_rel = (rel_value_number + 1)/(sum_rel_value_number + alpha*V)\n",
    "prob_p_irrel = (irrel_value_number + 1)/(sum_irrel_value_number + alpha*V)\n",
    "\n",
    "prob_p_desc_rel = alpha / (sum_rel_value_number + alpha*V)\n",
    "prob_p_desc_irrel = alpha / (sum_irrel_value_number + alpha*V)\n",
    "\n",
    "prob_p_rel.sort_values(ascending=False)"
   ]
  },
  {
   "cell_type": "code",
   "execution_count": 109,
   "metadata": {
    "scrolled": true
   },
   "outputs": [
    {
     "data": {
      "text/plain": [
       "meia               0.333742\n",
       "especial           0.333742\n",
       "super              0.333742\n",
       "cupom              0.333742\n",
       "sinto              0.333742\n",
       "shake              0.333742\n",
       "demais             0.333742\n",
       "sanduíche          0.333742\n",
       "milk               0.333742\n",
       "diz                0.333742\n",
       "rio                0.333742\n",
       "refri              0.333742\n",
       "eles               0.333742\n",
       "quasequeeucaio_    0.333742\n",
       "errado             0.333742\n",
       "experiência        0.333742\n",
       "chocolate          0.333742\n",
       "falando            0.333742\n",
       "fanchapwr          0.333742\n",
       "fast               0.333742\n",
       "fica               0.333742\n",
       "food               0.333742\n",
       "onde               0.333742\n",
       "oi                 0.333742\n",
       "la                 0.333742\n",
       "lugar              0.333742\n",
       "nas                0.333742\n",
       "mandar             0.333742\n",
       "melhor             0.333742\n",
       "mt                 0.333742\n",
       "                     ...   \n",
       "❤️                      NaN\n",
       "🍔🍟                      NaN\n",
       "🏟                       NaN\n",
       "👍🏻                      NaN\n",
       "💔                       NaN\n",
       "🔥🏀                      NaN\n",
       "🖤☕️                     NaN\n",
       "😂                       NaN\n",
       "😂❤️                     NaN\n",
       "😉                       NaN\n",
       "😊😍🤗                     NaN\n",
       "😍🔥                      NaN\n",
       "😍🤩🍔🍟                    NaN\n",
       "😔                       NaN\n",
       "😫                       NaN\n",
       "😫😹                      NaN\n",
       "😱▪                      NaN\n",
       "🙄                       NaN\n",
       "🙏🏻❤️🌹                   NaN\n",
       "🙏🏽❤                     NaN\n",
       "🤔🤔🤔                     NaN\n",
       "🤢                       NaN\n",
       "🤢🤮                      NaN\n",
       "🤣                       NaN\n",
       "🤣🤣🤣                     NaN\n",
       "🤦🏽‍♂️                   NaN\n",
       "🤪                       NaN\n",
       "🤪🤪                      NaN\n",
       "🤭                       NaN\n",
       "🥰                       NaN\n",
       "Length: 1545, dtype: float64"
      ]
     },
     "execution_count": 109,
     "metadata": {},
     "output_type": "execute_result"
    }
   ],
   "source": [
    "rel_value_number = rel.value_counts()\n",
    "irrel_value_number = irrel.value_counts()\n",
    "total_number = irrel_value_number +irrel_value_number\n",
    "\n",
    "prob_p_rel = (rel_value + 1)/(rel_value_number + total_number)\n",
    "prob_p_irrel = (irrel_value + 1)/(irrel_value_number + total_number)\n",
    "\n",
    "prob_p_rel.sort_values(ascending=False)"
   ]
  },
  {
   "cell_type": "code",
   "execution_count": 110,
   "metadata": {
    "scrolled": true
   },
   "outputs": [
    {
     "data": {
      "text/plain": [
       "arielsis        0.333415\n",
       "dew             0.333415\n",
       "🤣🤣🤣             0.333415\n",
       "senhor          0.333415\n",
       "putaqueparil    0.333415\n",
       "comentários     0.333415\n",
       "demos           0.333415\n",
       "desses          0.333415\n",
       "também          0.333415\n",
       "yvlfp           0.333415\n",
       "tags            0.333415\n",
       "ey              0.333415\n",
       "quebrou         0.333415\n",
       "indo            0.333415\n",
       "reggae          0.333415\n",
       "onde            0.333415\n",
       "nuludao         0.333415\n",
       "pouk            0.333415\n",
       "dúvida          0.333415\n",
       "bob’s           0.333415\n",
       "prefiro         0.333415\n",
       "mec             0.333415\n",
       "atnekmc         0.333415\n",
       "favor           0.333415\n",
       "neto            0.333415\n",
       "detox           0.333415\n",
       "queres          0.333415\n",
       "servidos        0.333415\n",
       "horas           0.333415\n",
       "talvez          0.333415\n",
       "                  ...   \n",
       "me              0.019690\n",
       "comer           0.019690\n",
       "você            0.018600\n",
       "se              0.018600\n",
       "minha           0.016748\n",
       "q               0.015233\n",
       "na              0.013971\n",
       "por             0.012902\n",
       "da              0.011986\n",
       "pra             0.011986\n",
       "uma             0.011576\n",
       "em              0.009606\n",
       "com             0.008212\n",
       "um              0.006492\n",
       "no              0.006255\n",
       "rt              0.006034\n",
       "https           0.006034\n",
       "não             0.006034\n",
       "co              0.006034\n",
       "é               0.005930\n",
       "t               0.005930\n",
       "eu              0.005546\n",
       "a               0.005373\n",
       "do              0.004777\n",
       "o               0.004711\n",
       "e               0.004648\n",
       "que             0.004147\n",
       "mcdonalds_br    0.003318\n",
       "de              0.002980\n",
       "mcdonalds       0.002397\n",
       "Length: 1334, dtype: float64"
      ]
     },
     "execution_count": 110,
     "metadata": {},
     "output_type": "execute_result"
    }
   ],
   "source": [
    "prob_p_irrel.sort_values(ascending=False)"
   ]
  },
  {
   "cell_type": "code",
   "execution_count": 111,
   "metadata": {},
   "outputs": [
    {
     "ename": "TypeError",
     "evalue": "count() takes at least 1 argument (0 given)",
     "output_type": "error",
     "traceback": [
      "\u001b[0;31m---------------------------------------------------------------------------\u001b[0m",
      "\u001b[0;31mTypeError\u001b[0m                                 Traceback (most recent call last)",
      "\u001b[0;32m<ipython-input-111-92bc1b7647cb>\u001b[0m in \u001b[0;36m<module>\u001b[0;34m\u001b[0m\n\u001b[0;32m----> 1\u001b[0;31m \u001b[0mrel_n\u001b[0m \u001b[0;34m=\u001b[0m \u001b[0;34m\" \"\u001b[0m\u001b[0;34m.\u001b[0m\u001b[0mjoin\u001b[0m\u001b[0;34m(\u001b[0m\u001b[0mdata\u001b[0m\u001b[0;34m[\u001b[0m\u001b[0mdata\u001b[0m\u001b[0;34m[\u001b[0m\u001b[0;34m\"relevancia\"\u001b[0m\u001b[0;34m]\u001b[0m \u001b[0;34m==\u001b[0m \u001b[0;36m1\u001b[0m\u001b[0;34m]\u001b[0m\u001b[0;34m.\u001b[0m\u001b[0mTreinamento\u001b[0m\u001b[0;34m)\u001b[0m\u001b[0;34m.\u001b[0m\u001b[0mcount\u001b[0m\u001b[0;34m(\u001b[0m\u001b[0;34m)\u001b[0m\u001b[0;34m\u001b[0m\u001b[0;34m\u001b[0m\u001b[0m\n\u001b[0m\u001b[1;32m      2\u001b[0m \u001b[0mirrel_n\u001b[0m \u001b[0;34m=\u001b[0m \u001b[0;34m\" \"\u001b[0m\u001b[0;34m.\u001b[0m\u001b[0mjoin\u001b[0m\u001b[0;34m(\u001b[0m\u001b[0mdata\u001b[0m\u001b[0;34m[\u001b[0m\u001b[0mdata\u001b[0m\u001b[0;34m[\u001b[0m\u001b[0;34m\"relevancia\"\u001b[0m\u001b[0;34m]\u001b[0m \u001b[0;34m==\u001b[0m \u001b[0;36m0\u001b[0m\u001b[0;34m]\u001b[0m\u001b[0;34m.\u001b[0m\u001b[0mTreinamento\u001b[0m\u001b[0;34m)\u001b[0m\u001b[0;34m.\u001b[0m\u001b[0mcount\u001b[0m\u001b[0;34m(\u001b[0m\u001b[0;34m)\u001b[0m\u001b[0;34m\u001b[0m\u001b[0;34m\u001b[0m\u001b[0m\n\u001b[1;32m      3\u001b[0m \u001b[0;34m\u001b[0m\u001b[0m\n\u001b[1;32m      4\u001b[0m \u001b[0mprob_rel\u001b[0m \u001b[0;34m=\u001b[0m \u001b[0mrel_n\u001b[0m\u001b[0;34m/\u001b[0m\u001b[0;34m(\u001b[0m\u001b[0mrel_n\u001b[0m \u001b[0;34m+\u001b[0m \u001b[0mirrel_n\u001b[0m\u001b[0;34m)\u001b[0m\u001b[0;34m\u001b[0m\u001b[0;34m\u001b[0m\u001b[0m\n\u001b[1;32m      5\u001b[0m \u001b[0mprob_irrel\u001b[0m \u001b[0;34m=\u001b[0m \u001b[0mirrel_n\u001b[0m\u001b[0;34m/\u001b[0m\u001b[0;34m(\u001b[0m\u001b[0mrel_n\u001b[0m \u001b[0;34m+\u001b[0m \u001b[0mirrel_n\u001b[0m\u001b[0;34m)\u001b[0m\u001b[0;34m\u001b[0m\u001b[0;34m\u001b[0m\u001b[0m\n",
      "\u001b[0;31mTypeError\u001b[0m: count() takes at least 1 argument (0 given)"
     ]
    }
   ],
   "source": [
    "rel_n = \" \".join(data[data[\"relevancia\"] == 1].Treinamento).count()\n",
    "irrel_n = \" \".join(data[data[\"relevancia\"] == 0].Treinamento).count()\n",
    "\n",
    "prob_rel = rel_n/(rel_n + irrel_n)\n",
    "prob_irrel = irrel_n/(rel_n + irrel_n)\n",
    "\n",
    "print(prob_rel)\n",
    "print(prob_irrel)"
   ]
  },
  {
   "cell_type": "code",
   "execution_count": null,
   "metadata": {},
   "outputs": [],
   "source": [
    "prob_rel_p = prob_p_rel*prob_rel\n",
    "prob_irrel_p = prob_p_irrel*prob_irrel"
   ]
  },
  {
   "cell_type": "markdown",
   "metadata": {},
   "source": [
    "___"
   ]
  },
  {
   "cell_type": "code",
   "execution_count": 114,
   "metadata": {},
   "outputs": [],
   "source": [
    "data = pd.read_excel(\"McDonalds.xlsx\",sheet_name = \"Teste\")\n",
    "colunas = [\"Teste\", \"relevancia\"]\n",
    "data = data.loc[:,colunas]\n",
    "\n",
    "rel = \" \".join(data[data[\"relevancia\"] == 1].Teste)\n",
    "irrel = \" \".join(data[data[\"relevancia\"] == 0].Teste)\n",
    "\n",
    "rel = cleanup(rel)\n",
    "irrel = cleanup(irrel)\n",
    "\n",
    "rel = pd.Series(rel.split())\n",
    "irrel = pd.Series(irrel.split())"
   ]
  },
  {
   "cell_type": "code",
   "execution_count": 125,
   "metadata": {},
   "outputs": [],
   "source": [
    "w = cleanup(data.iloc[100]['Teste']).split()"
   ]
  },
  {
   "cell_type": "code",
   "execution_count": 140,
   "metadata": {},
   "outputs": [
    {
     "data": {
      "text/plain": [
       "-369.0582944808211"
      ]
     },
     "execution_count": 140,
     "metadata": {},
     "output_type": "execute_result"
    }
   ],
   "source": [
    "import numpy as np\n",
    "np.log(prob_p_rel.reindex(w).fillna(prob_p_desc_rel)).sum()"
   ]
  },
  {
   "cell_type": "markdown",
   "metadata": {},
   "source": [
    "___\n",
    "### Verificando a performance\n",
    "\n",
    "Agora você deve testar o seu classificador com a base de Testes."
   ]
  },
  {
   "cell_type": "code",
   "execution_count": null,
   "metadata": {},
   "outputs": [],
   "source": []
  },
  {
   "cell_type": "code",
   "execution_count": null,
   "metadata": {},
   "outputs": [],
   "source": []
  },
  {
   "cell_type": "code",
   "execution_count": null,
   "metadata": {},
   "outputs": [],
   "source": []
  },
  {
   "cell_type": "markdown",
   "metadata": {},
   "source": [
    "___\n",
    "### Concluindo"
   ]
  },
  {
   "cell_type": "code",
   "execution_count": null,
   "metadata": {},
   "outputs": [],
   "source": []
  },
  {
   "cell_type": "code",
   "execution_count": null,
   "metadata": {},
   "outputs": [],
   "source": []
  },
  {
   "cell_type": "markdown",
   "metadata": {},
   "source": [
    "## Aperfeiçoamento:\n",
    "\n",
    "Os trabalhos vão evoluir em conceito dependendo da quantidade de itens avançados:\n",
    "\n",
    "* Limpar: \\n, :, \", ', (, ), etc SEM remover emojis\n",
    "* Corrigir separação de espaços entre palavras e emojis ou emojis e emojis\n",
    "* Propor outras limpezas e transformações que não afetem a qualidade da informação ou classificação\n",
    "* Criar categorias intermediárias de relevância baseadas na probabilidade: ex.: muito relevante, relevante, neutro, irrelevante, muito irrelevante (3 categorias: C, mais categorias conta para B)\n",
    "* Explicar por que não posso usar o próprio classificador para gerar mais amostras de treinamento\n",
    "* Propor diferentes cenários para Naïve Bayes fora do contexto do projeto\n",
    "* Sugerir e explicar melhorias reais com indicações concretas de como implementar (indicar como fazer e indicar material de pesquisa)\n",
    "* Montar um dashboard que periodicamente realiza análise de sentimento e visualiza estes dados"
   ]
  },
  {
   "cell_type": "markdown",
   "metadata": {},
   "source": [
    "# Referências"
   ]
  },
  {
   "cell_type": "markdown",
   "metadata": {},
   "source": [
    "[Naive Bayes and Text Classification](https://arxiv.org/pdf/1410.5329.pdf)  **Mais completo**\n",
    "\n",
    "[A practical explanation of a Naive Bayes Classifier](https://monkeylearn.com/blog/practical-explanation-naive-bayes-classifier/) **Mais simples**"
   ]
  },
  {
   "cell_type": "code",
   "execution_count": null,
   "metadata": {},
   "outputs": [],
   "source": []
  }
 ],
 "metadata": {
  "kernelspec": {
   "display_name": "Python 3",
   "language": "python",
   "name": "python3"
  },
  "language_info": {
   "codemirror_mode": {
    "name": "ipython",
    "version": 3
   },
   "file_extension": ".py",
   "mimetype": "text/x-python",
   "name": "python",
   "nbconvert_exporter": "python",
   "pygments_lexer": "ipython3",
   "version": "3.7.1"
  }
 },
 "nbformat": 4,
 "nbformat_minor": 4
}
